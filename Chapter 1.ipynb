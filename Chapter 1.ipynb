{
 "cells": [
  {
   "cell_type": "markdown",
   "metadata": {},
   "source": [
    "Problem 1."
   ]
  },
  {
   "cell_type": "code",
   "execution_count": 4,
   "metadata": {},
   "outputs": [
    {
     "data": {
      "text/plain": [
       "0.6"
      ]
     },
     "execution_count": 4,
     "metadata": {},
     "output_type": "execute_result"
    }
   ],
   "source": [
    "# a (odd digit at first time)\n",
    "3/5"
   ]
  },
  {
   "cell_type": "code",
   "execution_count": 5,
   "metadata": {},
   "outputs": [
    {
     "data": {
      "text/plain": [
       "0.6000000000000001"
      ]
     },
     "execution_count": 5,
     "metadata": {},
     "output_type": "execute_result"
    }
   ],
   "source": [
    "# b (odd digit at second time)\n",
    "3/5*2/4 + 2/5*3/4"
   ]
  },
  {
   "cell_type": "code",
   "execution_count": 6,
   "metadata": {},
   "outputs": [
    {
     "data": {
      "text/plain": [
       "0.3"
      ]
     },
     "execution_count": 6,
     "metadata": {},
     "output_type": "execute_result"
    }
   ],
   "source": [
    "# c (odd digit both times)\n",
    "3/5 * 2/4"
   ]
  },
  {
   "cell_type": "markdown",
   "metadata": {},
   "source": [
    "Problem 2."
   ]
  },
  {
   "cell_type": "code",
   "execution_count": 8,
   "metadata": {},
   "outputs": [
    {
     "name": "stdout",
     "output_type": "stream",
     "text": [
      "S1 = 0.4444444444444444\n",
      "S2 = 0.4444444444444444\n",
      "S1 or S2 = 0.6666666666666666\n",
      "S1 and S2 = 0.2222222222222222\n"
     ]
    }
   ],
   "source": [
    "s_1 = 12/27\n",
    "s_2 = 12/27\n",
    "s_1ns_2 = 6/27\n",
    "s_1Us_2 = 18/27\n",
    "\n",
    "print(\"S1 = {}\\nS2 = {}\\nS1 or S2 = {}\\nS1 and S2 = {}\".format(s_1, s_2, s_1Us_2, s_1ns_2))"
   ]
  },
  {
   "cell_type": "markdown",
   "metadata": {},
   "source": [
    "Problem 4."
   ]
  },
  {
   "cell_type": "code",
   "execution_count": 9,
   "metadata": {},
   "outputs": [],
   "source": [
    "def ending_at_n(n):\n",
    "    return 1/2**(n-1)"
   ]
  },
  {
   "cell_type": "code",
   "execution_count": 13,
   "metadata": {},
   "outputs": [
    {
     "name": "stdout",
     "output_type": "stream",
     "text": [
      "0.9375\n"
     ]
    }
   ],
   "source": [
    "a = 0\n",
    "for i in range(2,6):\n",
    "    a += ending_at_n(i)\n",
    "print(a)"
   ]
  },
  {
   "cell_type": "code",
   "execution_count": 22,
   "metadata": {},
   "outputs": [
    {
     "data": {
      "text/plain": [
       "0.9375"
      ]
     },
     "execution_count": 22,
     "metadata": {},
     "output_type": "execute_result"
    }
   ],
   "source": [
    "15/16"
   ]
  },
  {
   "cell_type": "code",
   "execution_count": 25,
   "metadata": {},
   "outputs": [
    {
     "name": "stdout",
     "output_type": "stream",
     "text": [
      "0.6666666666666666\n"
     ]
    }
   ],
   "source": [
    "b = 0\n",
    "for i in range(1,100):\n",
    "    b += ending_at_n(i*2)\n",
    "print(b)"
   ]
  },
  {
   "cell_type": "markdown",
   "metadata": {},
   "source": [
    "Problem 9."
   ]
  },
  {
   "cell_type": "code",
   "execution_count": 30,
   "metadata": {},
   "outputs": [],
   "source": [
    "# 2 dice thrown\n",
    "# A: sum of faces is odd\n",
    "# B: at least one ace\n",
    "AB = (3 + 3) / 36\n",
    "A_union_B = (3*6 + 3 + 3 - 1) / 36\n",
    "A_Bprime = (3*6 - 3 - 3) / 36\n"
   ]
  },
  {
   "cell_type": "code",
   "execution_count": 31,
   "metadata": {},
   "outputs": [
    {
     "name": "stdout",
     "output_type": "stream",
     "text": [
      "0.16666666666666666\n"
     ]
    }
   ],
   "source": [
    "print(AB)"
   ]
  },
  {
   "cell_type": "code",
   "execution_count": 34,
   "metadata": {},
   "outputs": [
    {
     "name": "stdout",
     "output_type": "stream",
     "text": [
      "0.6388888888888888\n"
     ]
    },
    {
     "data": {
      "text/plain": [
       "0.6388888888888888"
      ]
     },
     "execution_count": 34,
     "metadata": {},
     "output_type": "execute_result"
    }
   ],
   "source": [
    "print(A_union_B)\n",
    "23/36"
   ]
  },
  {
   "cell_type": "code",
   "execution_count": 33,
   "metadata": {},
   "outputs": [
    {
     "name": "stdout",
     "output_type": "stream",
     "text": [
      "0.3333333333333333\n"
     ]
    }
   ],
   "source": [
    "print(A_Bprime)"
   ]
  },
  {
   "cell_type": "markdown",
   "metadata": {},
   "source": [
    "Problem 12."
   ]
  },
  {
   "cell_type": "code",
   "execution_count": 35,
   "metadata": {},
   "outputs": [],
   "source": [
    "# (a) W1' => x = 0\n",
    "# (b) N2S2 => x = 0\n",
    "# (c) N1'S1'E1' => x = 4\n",
    "# (d) W2 - W3 => x = 2\n",
    "# (e) N1S1E1W1 => x = 1\n",
    "# (f) N3W1 => x = 1\n",
    "# (g) (N2 U S2)E2 => x = 0"
   ]
  },
  {
   "cell_type": "markdown",
   "metadata": {},
   "source": [
    "Problem 15."
   ]
  },
  {
   "cell_type": "markdown",
   "metadata": {},
   "source": [
    "(a) A<br>\n",
    "(b) AB<br>\n",
    "(c) B U (AC)<br>"
   ]
  },
  {
   "cell_type": "markdown",
   "metadata": {},
   "source": [
    "Problem 16."
   ]
  },
  {
   "cell_type": "markdown",
   "metadata": {},
   "source": [
    "(a) incorrect<br>\n",
    "(b) incorrect<br>\n",
    "(c) correct<br>\n",
    "(d) correct<br>\n",
    "(e) correct<br>\n",
    "(f) correct<br>\n",
    "(g) incorrect<br>\n",
    "(h) correct<br>\n",
    "(i) correct<br>\n",
    "(j) incorrect<br>\n",
    "(k) correct<br>\n",
    "(l) correct"
   ]
  },
  {
   "cell_type": "markdown",
   "metadata": {},
   "source": [
    "Problem 17."
   ]
  },
  {
   "cell_type": "markdown",
   "metadata": {},
   "source": [
    "(a) AB'C'<br>\n",
    "(b) ABC'<br>\n",
    "(c) ABC<br>\n",
    "(d) AUBUC<br>\n",
    "(e) ABUBCUAC<br>\n",
    "(f) (AB'C')U(A'BC')U(A'B'C)<br>\n",
    "(g) ABUBCUAC - ABC<br>\n",
    "(h) (AUBUC)'<br>\n",
    "(i) (AUBUC) - ABC = (ABC)'<br>"
   ]
  },
  {
   "cell_type": "markdown",
   "metadata": {},
   "source": [
    "Problem 18."
   ]
  },
  {
   "cell_type": "markdown",
   "metadata": {},
   "source": [
    "AUBUC = A U BA' U CA'B'"
   ]
  }
 ],
 "metadata": {
  "kernelspec": {
   "display_name": "Python 3",
   "language": "python",
   "name": "python3"
  },
  "language_info": {
   "codemirror_mode": {
    "name": "ipython",
    "version": 3
   },
   "file_extension": ".py",
   "mimetype": "text/x-python",
   "name": "python",
   "nbconvert_exporter": "python",
   "pygments_lexer": "ipython3",
   "version": "3.8.9"
  }
 },
 "nbformat": 4,
 "nbformat_minor": 4
}
